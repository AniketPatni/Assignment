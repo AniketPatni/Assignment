{
 "cells": [
  {
   "cell_type": "code",
   "execution_count": 35,
   "id": "1c25f735",
   "metadata": {},
   "outputs": [
    {
     "name": "stdout",
     "output_type": "stream",
     "text": [
      "Sum is 55\n",
      "Produnct is 3628800\n"
     ]
    }
   ],
   "source": [
    "# Q2.Write a python program to print the sum and product of the first 10 natural numbers using for\n",
    "# and while loop.\n",
    "\n",
    "add=0\n",
    "mul=1\n",
    "\n",
    "for i in range(1,11):\n",
    "    add+=i\n",
    "    mul*=i\n",
    "\n",
    "print(\"Sum is\",add)\n",
    "print(\"Product is\",mul)"
   ]
  },
  {
   "cell_type": "code",
   "execution_count": 54,
   "id": "ea13d6ac",
   "metadata": {},
   "outputs": [
    {
     "name": "stdout",
     "output_type": "stream",
     "text": [
      "Sum is 55\n",
      "Product is 3628800\n"
     ]
    }
   ],
   "source": [
    "a=0\n",
    "b=1\n",
    "i=1\n",
    "\n",
    "while i<11:\n",
    "    a+=i\n",
    "    b*=i\n",
    "    i=i+1\n",
    "\n",
    "print(\"Sum is\",a)\n",
    "print(\"Product is\",b)"
   ]
  },
  {
   "cell_type": "code",
   "execution_count": 5,
   "id": "8b401405",
   "metadata": {},
   "outputs": [
    {
     "name": "stdout",
     "output_type": "stream",
     "text": [
      "Enter the unit of electricity consumed by you310\n",
      "Total bill is: 2250\n"
     ]
    }
   ],
   "source": [
    "# Q3. Create a python program to compute the electricity bill for a household.\n",
    "# The per-unit charges in rupees are as follows: For the first 100 units, the user will be charged Rs. 4.5 per\n",
    "# unit, for the next 100 units, the user will be charged Rs. 6 per unit, and for the next 100 units, the user will\n",
    "# be charged Rs. 10 per unit, After 300 units and above the user will be charged Rs. 20 per unit.\n",
    "\n",
    "\n",
    "# You are required to take the units of electricity consumed in a month from the user as input.\n",
    "# Your program must pass this test case: when the unit of electricity consumed by the user in a month is\n",
    "# 310, the total electricity bill should be 2250.\n",
    "\n",
    "\n",
    "watt=int(input(\"Enter the unit of electricity consumed by you\"))\n",
    "\n",
    "\n",
    "if watt<=100:\n",
    "    amount=4.5*watt\n",
    "\n",
    "elif watt>=101 and watt<=200:\n",
    "    remmaning_watt1=watt-100\n",
    "    amount=450+remmaning_watt1*6\n",
    "\n",
    "elif watt>=201 and watt<=300:\n",
    "    \n",
    "    remmaning_watt2=watt-200\n",
    "    amount=450+600+10*remmaning_watt2\n",
    "\n",
    "elif watt>=301 and watt<=400:\n",
    "    remmaning_watt3=watt-300\n",
    "    amount=450+600+1000+20*remmaning_watt3\n",
    "\n",
    "print(\"Total bill is:\",amount)\n",
    "\n",
    "    "
   ]
  },
  {
   "cell_type": "code",
   "execution_count": null,
   "id": "99e7dea0",
   "metadata": {},
   "outputs": [],
   "source": [
    "# Q4. Create a list of numbers from 1 to 100. Use for loop and while loop to calculate the cube of each\n",
    "# number and if the cube of that number is divisible by 4 or 5 then append that number in a list and print\n",
    "# that list."
   ]
  },
  {
   "cell_type": "code",
   "execution_count": 16,
   "id": "1c3cf25f",
   "metadata": {},
   "outputs": [],
   "source": [
    "number=list(range(0,101))"
   ]
  },
  {
   "cell_type": "code",
   "execution_count": 17,
   "id": "a5571a6a",
   "metadata": {},
   "outputs": [
    {
     "name": "stdout",
     "output_type": "stream",
     "text": [
      "[0, 2, 4, 5, 6, 8, 10, 12, 14, 15, 16, 18, 20, 22, 24, 25, 26, 28, 30, 32, 34, 35, 36, 38, 40, 42, 44, 45, 46, 48, 50, 52, 54, 55, 56, 58, 60, 62, 64, 65, 66, 68, 70, 72, 74, 75, 76, 78, 80, 82, 84, 85, 86, 88, 90, 92, 94, 95, 96, 98, 100]\n"
     ]
    }
   ],
   "source": [
    "number2=[]\n",
    "\n",
    "for i in number:\n",
    "    \n",
    "    if (i**3)%4==0 or (i**3)%5==0:\n",
    "        number2.append(i)\n",
    "\n",
    "print(number2)"
   ]
  },
  {
   "cell_type": "code",
   "execution_count": 23,
   "id": "9adc6912",
   "metadata": {},
   "outputs": [
    {
     "name": "stdout",
     "output_type": "stream",
     "text": [
      "11\n"
     ]
    }
   ],
   "source": [
    "# Q5. Write a program to filter count vowels in the below-given string.\n",
    "\n",
    "string = \"I want to become a data scientist\"\n",
    "count=0\n",
    "\n",
    "for i in string:\n",
    "    \n",
    "    if i==\"a\" or i==\"e\" or i==\"i\" or i==\"o\" or i==\"u\":\n",
    "        count+=1\n",
    "\n",
    "print(count)\n",
    "    "
   ]
  },
  {
   "cell_type": "code",
   "execution_count": null,
   "id": "3dc43322",
   "metadata": {},
   "outputs": [],
   "source": []
  }
 ],
 "metadata": {
  "kernelspec": {
   "display_name": "Python 3 (ipykernel)",
   "language": "python",
   "name": "python3"
  },
  "language_info": {
   "codemirror_mode": {
    "name": "ipython",
    "version": 3
   },
   "file_extension": ".py",
   "mimetype": "text/x-python",
   "name": "python",
   "nbconvert_exporter": "python",
   "pygments_lexer": "ipython3",
   "version": "3.9.12"
  }
 },
 "nbformat": 4,
 "nbformat_minor": 5
}
