{
 "cells": [
  {
   "cell_type": "code",
   "execution_count": 2,
   "id": "03aa3471",
   "metadata": {},
   "outputs": [
    {
     "name": "stdout",
     "output_type": "stream",
     "text": [
      "Enter Marks:68\n",
      "Grade C\n"
     ]
    }
   ],
   "source": [
    "#1.\n",
    "marks=int(input(\"Enter Marks:\"))\n",
    "\n",
    "if marks>90:\n",
    "    print(\"Grade A\")\n",
    "\n",
    "elif marks>80 and marks<=90:\n",
    "    print(\"Grade B\")\n",
    "\n",
    "if marks>=60 and marks<=80:\n",
    "    print(\"Grade C\")\n",
    "\n",
    "else :\n",
    "    print(\"Grade D\")"
   ]
  },
  {
   "cell_type": "code",
   "execution_count": 7,
   "id": "40880157",
   "metadata": {},
   "outputs": [
    {
     "name": "stdout",
     "output_type": "stream",
     "text": [
      "Enter The Cost Price of bike:700000\n",
      "Tax to be Paid 105000.0\n"
     ]
    }
   ],
   "source": [
    "#2.\n",
    "\n",
    "price=int(input(\"Enter The Cost Price of bike:\"))\n",
    "\n",
    "if price>100000:\n",
    "    tax=0.15*price\n",
    "    print(\"Tax to be Paid\",tax)\n",
    "\n",
    "elif price>50000 and price<=100000:\n",
    "    tax=0.10*price\n",
    "    print(\"Tax to be Paid\",tax)\n",
    "\n",
    "else:\n",
    "    tax=0.05*price\n",
    "    print(\"Tax to be Paid\",tax)\n"
   ]
  },
  {
   "cell_type": "code",
   "execution_count": 10,
   "id": "b53a7d4c",
   "metadata": {},
   "outputs": [
    {
     "name": "stdout",
     "output_type": "stream",
     "text": [
      "Enter The City:agra\n",
      "Taj Mahal\n"
     ]
    }
   ],
   "source": [
    "#3.\n",
    "\n",
    "\n",
    "city=input(\"Enter The City:\")\n",
    "\n",
    "if city==\"delhi\":\n",
    "    print(\"red fort\")\n",
    "\n",
    "elif city==\"agra\":\n",
    "    print(\"Taj Mahal\")\n",
    "\n",
    "elif city==\"jaipur\":\n",
    "    print(\"Hawa Mahal\")\n",
    "\n",
    "\n"
   ]
  },
  {
   "cell_type": "code",
   "execution_count": 14,
   "id": "b8f023ec",
   "metadata": {},
   "outputs": [
    {
     "name": "stdout",
     "output_type": "stream",
     "text": [
      "Enter the number:150\n",
      "it can be divided by three 3 times\n"
     ]
    }
   ],
   "source": [
    "#4.\n",
    "\n",
    "count=0\n",
    "\n",
    "num=int(input(\"Enter the number:\"))\n",
    "\n",
    "while num>10:\n",
    "    num=num/3\n",
    "    count+=1\n",
    "\n",
    "print(\"it can be divided by three\",count,\"times\")\n"
   ]
  },
  {
   "cell_type": "code",
   "execution_count": 16,
   "id": "6b9a1ed2",
   "metadata": {},
   "outputs": [
    {
     "name": "stdout",
     "output_type": "stream",
     "text": [
      "10\n",
      "9\n",
      "8\n",
      "7\n",
      "6\n",
      "5\n",
      "4\n",
      "3\n",
      "2\n",
      "1\n"
     ]
    }
   ],
   "source": [
    "#7. \n",
    "\n",
    "num=11\n",
    "\n",
    "while num>1:\n",
    "    num-=1\n",
    "    print(num)\n",
    "    "
   ]
  },
  {
   "cell_type": "code",
   "execution_count": 17,
   "id": "96a7892a",
   "metadata": {},
   "outputs": [
    {
     "name": "stdout",
     "output_type": "stream",
     "text": [
      "10\n",
      "9\n",
      "8\n",
      "7\n",
      "6\n",
      "5\n",
      "4\n",
      "3\n",
      "2\n",
      "1\n"
     ]
    }
   ],
   "source": [
    "#8.\n",
    "\n",
    "num=11\n",
    "\n",
    "while num>1:\n",
    "    num-=1\n",
    "    print(num)"
   ]
  },
  {
   "cell_type": "code",
   "execution_count": null,
   "id": "49947d52",
   "metadata": {},
   "outputs": [],
   "source": []
  }
 ],
 "metadata": {
  "kernelspec": {
   "display_name": "Python 3 (ipykernel)",
   "language": "python",
   "name": "python3"
  },
  "language_info": {
   "codemirror_mode": {
    "name": "ipython",
    "version": 3
   },
   "file_extension": ".py",
   "mimetype": "text/x-python",
   "name": "python",
   "nbconvert_exporter": "python",
   "pygments_lexer": "ipython3",
   "version": "3.9.12"
  }
 },
 "nbformat": 4,
 "nbformat_minor": 5
}
